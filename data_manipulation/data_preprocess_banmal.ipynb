{
 "cells": [
  {
   "cell_type": "markdown",
   "metadata": {},
   "source": [
    "## 대화체 반말로 바꾸기"
   ]
  },
  {
   "cell_type": "markdown",
   "metadata": {},
   "source": [
    "- https://huggingface.co/squarelike/korean-style-converter-6b"
   ]
  },
  {
   "cell_type": "code",
   "execution_count": 3,
   "metadata": {},
   "outputs": [
    {
     "name": "stderr",
     "output_type": "stream",
     "text": [
      "model.safetensors.index.json: 100%|██████████| 23.9k/23.9k [00:00<00:00, 59.7MB/s]\n",
      "model-00001-of-00003.safetensors: 100%|██████████| 4.96G/4.96G [03:11<00:00, 25.9MB/s]\n",
      "model-00002-of-00003.safetensors: 100%|██████████| 4.93G/4.93G [03:22<00:00, 24.4MB/s]\n",
      "model-00003-of-00003.safetensors: 100%|██████████| 2.46G/2.46G [01:59<00:00, 20.5MB/s]\n",
      "Downloading shards: 100%|██████████| 3/3 [08:35<00:00, 171.83s/it]\n",
      "Loading checkpoint shards: 100%|██████████| 3/3 [00:05<00:00,  1.67s/it]\n",
      "generation_config.json: 100%|██████████| 137/137 [00:00<00:00, 657kB/s]\n",
      "tokenizer_config.json: 100%|██████████| 9.56k/9.56k [00:00<00:00, 24.0MB/s]\n",
      "tokenizer.json: 100%|██████████| 4.28M/4.28M [00:01<00:00, 3.86MB/s]\n",
      "special_tokens_map.json: 100%|██████████| 573/573 [00:00<00:00, 2.88MB/s]\n",
      "Special tokens have been added in the vocabulary, make sure the associated word embeddings are fine-tuned or trained.\n"
     ]
    }
   ],
   "source": [
    "from transformers import AutoModelForCausalLM, AutoTokenizer, StoppingCriteria, StoppingCriteriaList\n",
    "import torch\n",
    "repo = \"squarelike/korean-style-converter-6b\"\n",
    "model = AutoModelForCausalLM.from_pretrained(\n",
    "        repo,\n",
    "        # load_in_4bit=True,\n",
    "        # device_map='auto',\n",
    "        cache_dir='./cache'\n",
    ")\n",
    "tokenizer = AutoTokenizer.from_pretrained(repo)"
   ]
  },
  {
   "cell_type": "code",
   "execution_count": 66,
   "metadata": {},
   "outputs": [],
   "source": [
    "# 데이터 불러오기\n",
    "\n",
    "import pandas as pd\n",
    "\n",
    "data_df = pd.read_csv('../data/train/session_2_age_20.csv')"
   ]
  },
  {
   "cell_type": "code",
   "execution_count": 67,
   "metadata": {},
   "outputs": [
    {
     "data": {
      "text/html": [
       "<div>\n",
       "<style scoped>\n",
       "    .dataframe tbody tr th:only-of-type {\n",
       "        vertical-align: middle;\n",
       "    }\n",
       "\n",
       "    .dataframe tbody tr th {\n",
       "        vertical-align: top;\n",
       "    }\n",
       "\n",
       "    .dataframe thead th {\n",
       "        text-align: right;\n",
       "    }\n",
       "</style>\n",
       "<table border=\"1\" class=\"dataframe\">\n",
       "  <thead>\n",
       "    <tr style=\"text-align: right;\">\n",
       "      <th></th>\n",
       "      <th>id</th>\n",
       "      <th>session_dialog</th>\n",
       "      <th>session_persona</th>\n",
       "    </tr>\n",
       "  </thead>\n",
       "  <tbody>\n",
       "    <tr>\n",
       "      <th>0</th>\n",
       "      <td>K5-03984-CL74442-CP22286-13-04-S2.json</td>\n",
       "      <td>['반가워요~~ 저는 20대 여자입니다. 저는 아메리카노를 자주 마셔요.', '오 ...</td>\n",
       "      <td>['나는 20대 여자이다. 나는 아메리카노를 자주 마신다.', '나는 뉴질랜드로 어...</td>\n",
       "    </tr>\n",
       "    <tr>\n",
       "      <th>1</th>\n",
       "      <td>K5-03984-CL74442-CP22286-13-04-S2.json</td>\n",
       "      <td>['아 반갑습니다. 저는 20대 여자이고요. 도서관 사서로 일하고 있어요.', '아...</td>\n",
       "      <td>['나는 20대 여자이다. 나는 도서관 사서이다.']</td>\n",
       "    </tr>\n",
       "    <tr>\n",
       "      <th>2</th>\n",
       "      <td>K5-03994-CL74403-CP11608-13-05-S2.json</td>\n",
       "      <td>['안녕하세요! 저는 부천에 사는 10대 여자입니다!', '만나서 반가워요 ㅎㅎ 같...</td>\n",
       "      <td>['나는 10대 여성이다. 내가 사는 곳은 부천이다.', '나는 요즘 즐겁다. 나는...</td>\n",
       "    </tr>\n",
       "    <tr>\n",
       "      <th>3</th>\n",
       "      <td>K5-03994-CL74403-CP11608-13-05-S2.json</td>\n",
       "      <td>['반가워요! ㅎㅎ 저도 10대 여성이에요!', '저는 요즘 진학 문제때문에 너무 ...</td>\n",
       "      <td>['나는 10대 여자이다.', '나는 진학문제 때문에 고민이다. 나는 진학문제로 아...</td>\n",
       "    </tr>\n",
       "    <tr>\n",
       "      <th>4</th>\n",
       "      <td>K5-03997-CL74070-CP11701-04-01-S2.json</td>\n",
       "      <td>['반가워요 ㅋㅋ 저는20대 남성인데 그쪽은요??', 'ㅋㅋ 저는 지금 자기주장이 ...</td>\n",
       "      <td>['나는 20대 남자이다.', '나는 자기주장이 강하다. 나는 전기정보공학부 부전공...</td>\n",
       "    </tr>\n",
       "    <tr>\n",
       "      <th>...</th>\n",
       "      <td>...</td>\n",
       "      <td>...</td>\n",
       "      <td>...</td>\n",
       "    </tr>\n",
       "    <tr>\n",
       "      <th>41311</th>\n",
       "      <td>K2-00002-CL21649-CP31111-08-09-S2.json</td>\n",
       "      <td>['네네 거의 한달만에 연락드리네요 저는 학생들이랑 수업하고 요즘 수행평가기간이라 ...</td>\n",
       "      <td>['나는 학생들 이과 수업하고 요즘 수행평가기간이라 아이들 수행평가를 지도해주면서 ...</td>\n",
       "    </tr>\n",
       "    <tr>\n",
       "      <th>41312</th>\n",
       "      <td>K2-00014-CL20283-CP21216-03-06-S2.json</td>\n",
       "      <td>['아니 하루뒤에나 연락드렸네요... 일이 좀 있었어요.', '아니 어제 장을 보러...</td>\n",
       "      <td>['나는 볼 일이 있었다.', '나는 차 사고가 났다.', '나는 난기류를 만났을 ...</td>\n",
       "    </tr>\n",
       "    <tr>\n",
       "      <th>41313</th>\n",
       "      <td>K2-00014-CL20283-CP21216-03-06-S2.json</td>\n",
       "      <td>['무슨 일이신데요?', '네??? 그게 무슨 말씀인가요? 병원 가야하나요?', '...</td>\n",
       "      <td>['나는 비행기 트라우마가 있다. 나는 성인이 되고 나서 안 타봤다.', '나는 난...</td>\n",
       "    </tr>\n",
       "    <tr>\n",
       "      <th>41314</th>\n",
       "      <td>K2-00020-CL13719-CP12624-03-09-S2.json</td>\n",
       "      <td>['안녕하세요~ 2주만이네요~ 요즘도 요리 관련 동아리 활동 잘 하고 계신가요?',...</td>\n",
       "      <td>['나는 운전면허를 따고 싶다', '나는 대중교통에서 탈출하고 자가용을 이용하고 싶...</td>\n",
       "    </tr>\n",
       "    <tr>\n",
       "      <th>41315</th>\n",
       "      <td>K2-00020-CL13719-CP12624-03-09-S2.json</td>\n",
       "      <td>['네, 좋아하는 스파게티도 만들어 먹고 역시 동아리 활동이 즐거워요.  추운데 건...</td>\n",
       "      <td>['나는 좋아하는 스파게티도 만들어 먹고 동아리 활동이 즐겁다.', '나는 운전면허...</td>\n",
       "    </tr>\n",
       "  </tbody>\n",
       "</table>\n",
       "<p>41316 rows × 3 columns</p>\n",
       "</div>"
      ],
      "text/plain": [
       "                                           id  \\\n",
       "0      K5-03984-CL74442-CP22286-13-04-S2.json   \n",
       "1      K5-03984-CL74442-CP22286-13-04-S2.json   \n",
       "2      K5-03994-CL74403-CP11608-13-05-S2.json   \n",
       "3      K5-03994-CL74403-CP11608-13-05-S2.json   \n",
       "4      K5-03997-CL74070-CP11701-04-01-S2.json   \n",
       "...                                       ...   \n",
       "41311  K2-00002-CL21649-CP31111-08-09-S2.json   \n",
       "41312  K2-00014-CL20283-CP21216-03-06-S2.json   \n",
       "41313  K2-00014-CL20283-CP21216-03-06-S2.json   \n",
       "41314  K2-00020-CL13719-CP12624-03-09-S2.json   \n",
       "41315  K2-00020-CL13719-CP12624-03-09-S2.json   \n",
       "\n",
       "                                          session_dialog  \\\n",
       "0      ['반가워요~~ 저는 20대 여자입니다. 저는 아메리카노를 자주 마셔요.', '오 ...   \n",
       "1      ['아 반갑습니다. 저는 20대 여자이고요. 도서관 사서로 일하고 있어요.', '아...   \n",
       "2      ['안녕하세요! 저는 부천에 사는 10대 여자입니다!', '만나서 반가워요 ㅎㅎ 같...   \n",
       "3      ['반가워요! ㅎㅎ 저도 10대 여성이에요!', '저는 요즘 진학 문제때문에 너무 ...   \n",
       "4      ['반가워요 ㅋㅋ 저는20대 남성인데 그쪽은요??', 'ㅋㅋ 저는 지금 자기주장이 ...   \n",
       "...                                                  ...   \n",
       "41311  ['네네 거의 한달만에 연락드리네요 저는 학생들이랑 수업하고 요즘 수행평가기간이라 ...   \n",
       "41312  ['아니 하루뒤에나 연락드렸네요... 일이 좀 있었어요.', '아니 어제 장을 보러...   \n",
       "41313  ['무슨 일이신데요?', '네??? 그게 무슨 말씀인가요? 병원 가야하나요?', '...   \n",
       "41314  ['안녕하세요~ 2주만이네요~ 요즘도 요리 관련 동아리 활동 잘 하고 계신가요?',...   \n",
       "41315  ['네, 좋아하는 스파게티도 만들어 먹고 역시 동아리 활동이 즐거워요.  추운데 건...   \n",
       "\n",
       "                                         session_persona  \n",
       "0      ['나는 20대 여자이다. 나는 아메리카노를 자주 마신다.', '나는 뉴질랜드로 어...  \n",
       "1                          ['나는 20대 여자이다. 나는 도서관 사서이다.']  \n",
       "2      ['나는 10대 여성이다. 내가 사는 곳은 부천이다.', '나는 요즘 즐겁다. 나는...  \n",
       "3      ['나는 10대 여자이다.', '나는 진학문제 때문에 고민이다. 나는 진학문제로 아...  \n",
       "4      ['나는 20대 남자이다.', '나는 자기주장이 강하다. 나는 전기정보공학부 부전공...  \n",
       "...                                                  ...  \n",
       "41311  ['나는 학생들 이과 수업하고 요즘 수행평가기간이라 아이들 수행평가를 지도해주면서 ...  \n",
       "41312  ['나는 볼 일이 있었다.', '나는 차 사고가 났다.', '나는 난기류를 만났을 ...  \n",
       "41313  ['나는 비행기 트라우마가 있다. 나는 성인이 되고 나서 안 타봤다.', '나는 난...  \n",
       "41314  ['나는 운전면허를 따고 싶다', '나는 대중교통에서 탈출하고 자가용을 이용하고 싶...  \n",
       "41315  ['나는 좋아하는 스파게티도 만들어 먹고 동아리 활동이 즐겁다.', '나는 운전면허...  \n",
       "\n",
       "[41316 rows x 3 columns]"
      ]
     },
     "execution_count": 67,
     "metadata": {},
     "output_type": "execute_result"
    }
   ],
   "source": [
    "data_df"
   ]
  },
  {
   "cell_type": "code",
   "execution_count": 68,
   "metadata": {},
   "outputs": [
    {
     "data": {
      "text/plain": [
       "(20658, 20658)"
      ]
     },
     "execution_count": 68,
     "metadata": {},
     "output_type": "execute_result"
    }
   ],
   "source": [
    "# data_df에서 짝수번째 행과 홀수번째 행으로 분리\n",
    "even_data_df = data_df.iloc[::2, :]\n",
    "odd_data_df = data_df.iloc[1::2, :]\n",
    "\n",
    "len(even_data_df), len(odd_data_df)"
   ]
  },
  {
   "cell_type": "code",
   "execution_count": 69,
   "metadata": {},
   "outputs": [
    {
     "data": {
      "text/plain": [
       "10328"
      ]
     },
     "execution_count": 69,
     "metadata": {},
     "output_type": "execute_result"
    }
   ],
   "source": [
    "# 각각에서 25%를 추출해서 합치기\n",
    "even_data_df = even_data_df.sample(frac=0.25)\n",
    "odd_data_df = odd_data_df.sample(frac=0.25)\n",
    "\n",
    "data_df = pd.concat([even_data_df, odd_data_df])\n",
    "\n",
    "len(data_df)"
   ]
  },
  {
   "cell_type": "code",
   "execution_count": 70,
   "metadata": {},
   "outputs": [],
   "source": [
    "data_df.reset_index(drop=True, inplace=True)"
   ]
  },
  {
   "cell_type": "code",
   "execution_count": 71,
   "metadata": {},
   "outputs": [],
   "source": [
    "data_df_10328_1_1 = data_df"
   ]
  },
  {
   "cell_type": "code",
   "execution_count": 72,
   "metadata": {},
   "outputs": [],
   "source": [
    "# 저장\n",
    "data_df_10328_1_1.to_csv('../data/train/session1_session2_1_1.csv', index=False)"
   ]
  },
  {
   "cell_type": "code",
   "execution_count": 15,
   "metadata": {},
   "outputs": [
    {
     "data": {
      "text/plain": [
       "['반가워요~~ 저는 20대 여자입니다. 저는 아메리카노를 자주 마셔요.',\n",
       " '오 일 하시는구나. 저는 뉴질랜드로 어학연수를 가요.',\n",
       " '지금 일단 계획은 2년이요.',\n",
       " '아 해외 나가는 거 별로 안 좋아하세요?',\n",
       " '아 그렇군요. 그렇다면 고민되겠네요..',\n",
       " '아 그런가요? 거기는 회의나 그런건 자주 안 하나봐요.',\n",
       " '좋은데요? 나름 매력있는 직업같네요.',\n",
       " '네 좋네요. 그럼 저는 어학연수때 필요한 것 좀 준비하러 가볼게요.']"
      ]
     },
     "execution_count": 15,
     "metadata": {},
     "output_type": "execute_result"
    }
   ],
   "source": [
    "input = eval(data_df['session_dialog'].tolist()[0])\n",
    "input"
   ]
  },
  {
   "cell_type": "code",
   "execution_count": 30,
   "metadata": {},
   "outputs": [],
   "source": [
    "def gen(style, text):\n",
    "    gened = model.generate(\n",
    "        **tokenizer(\n",
    "            f\"\"\"### 원문: {text}\\n### 문체: {style}\\n### 수정문:\"\"\",\n",
    "            return_tensors='pt',\n",
    "            return_token_type_ids=False\n",
    "        ).to(\"cuda\"),\n",
    "        max_new_tokens=100,\n",
    "        temperature=1,\n",
    "        do_sample=True,\n",
    "        repetition_penalty=1.2,\n",
    "        num_beams=3\n",
    "    )\n",
    "\n",
    "    result = tokenizer.decode(gened[0], skip_special_tokens=True)\n",
    "    return result[result.find(\"수정문:\")+5:].replace(\"<|endoftext|>\",\"\")"
   ]
  },
  {
   "cell_type": "code",
   "execution_count": 31,
   "metadata": {},
   "outputs": [
    {
     "name": "stdout",
     "output_type": "stream",
     "text": [
      "안녕, 나는 20대 여자야. 나는 아메리카노를 자주 마셔.\n",
      "오, 일 하는 구나. 나는 뉴질랜드로 어학연수를 가.\n",
      "지금 일단 계획은 2년이야.\n",
      "아 해외 나가는 거 별로 안 좋아해?\n",
      "그렇군. 그러면 고민이 될 것 같아.\n",
      "아 그런거야? 거기는 회의나 그런건 자주 안 해?\n",
      "좋은 것 같아. 나름 매력있는 직업같아.\n",
      "네 좋아. 그럼 나는 어학연수때 필요한 것 좀 준비하러 갈게.\n"
     ]
    }
   ],
   "source": [
    "model=model.to('cuda')\n",
    "model.eval()\n",
    "outputs=[]\n",
    "with torch.no_grad():\n",
    "    for text in input:\n",
    "        output = gen('반말체',text)\n",
    "        print(output)\n",
    "        outputs.append(output)"
   ]
  },
  {
   "cell_type": "code",
   "execution_count": 37,
   "metadata": {},
   "outputs": [],
   "source": [
    "# data_df의 session_dialog를 반말체로 변환한 결과를 outputs에 저장하고, 이를 data_df에 추가한 뒤, csv 파일로 저장\n",
    "\n",
    "session_dialogs = [eval(dialog) for dialog in data_df['session_dialog'].tolist()]"
   ]
  },
  {
   "cell_type": "code",
   "execution_count": 73,
   "metadata": {},
   "outputs": [],
   "source": [
    "session_dialogs_10328 = [eval(dialog) for dialog in data_df_10328_1_1['session_dialog'].tolist()]"
   ]
  },
  {
   "cell_type": "code",
   "execution_count": 46,
   "metadata": {},
   "outputs": [],
   "source": [
    "from tqdm import tqdm"
   ]
  },
  {
   "cell_type": "code",
   "execution_count": 74,
   "metadata": {},
   "outputs": [
    {
     "name": "stderr",
     "output_type": "stream",
     "text": [
      "100%|██████████| 10328/10328 [22:49:56<00:00,  7.96s/it]  \n"
     ]
    }
   ],
   "source": [
    "total_banmal_dialogs = []\n",
    "\n",
    "for session_dialog in tqdm(session_dialogs_10328):\n",
    "    banmal_dialogs = []\n",
    "    with torch.no_grad():\n",
    "        for dialog in session_dialog:\n",
    "            banmal_dialogs.append(gen('반말체',dialog))\n",
    "    total_banmal_dialogs.append(banmal_dialogs)"
   ]
  },
  {
   "cell_type": "code",
   "execution_count": 76,
   "metadata": {},
   "outputs": [],
   "source": [
    "data_df_10328_1_1['banmal_dialog'] = total_banmal_dialogs"
   ]
  },
  {
   "cell_type": "code",
   "execution_count": 77,
   "metadata": {},
   "outputs": [
    {
     "data": {
      "text/html": [
       "<div>\n",
       "<style scoped>\n",
       "    .dataframe tbody tr th:only-of-type {\n",
       "        vertical-align: middle;\n",
       "    }\n",
       "\n",
       "    .dataframe tbody tr th {\n",
       "        vertical-align: top;\n",
       "    }\n",
       "\n",
       "    .dataframe thead th {\n",
       "        text-align: right;\n",
       "    }\n",
       "</style>\n",
       "<table border=\"1\" class=\"dataframe\">\n",
       "  <thead>\n",
       "    <tr style=\"text-align: right;\">\n",
       "      <th></th>\n",
       "      <th>id</th>\n",
       "      <th>session_dialog</th>\n",
       "      <th>session_persona</th>\n",
       "      <th>banmal_dialog</th>\n",
       "    </tr>\n",
       "  </thead>\n",
       "  <tbody>\n",
       "    <tr>\n",
       "      <th>0</th>\n",
       "      <td>K5-01680-CL72369-CP01894-12-02-S2.json</td>\n",
       "      <td>['안녕하세요. 잘 지내셨죠? 멍냥이들은 어떄요?', '저는 체험 여행을 자주가서요...</td>\n",
       "      <td>['나는 체험 여행을 자주간다.', '나는 경주 전통체험 여행을 갈 예정이다.']</td>\n",
       "      <td>[안녕, 잘 지냈어? 멍냥이들은 어때?, 나는 체험 여행을 자주가서, 이번에 문화체...</td>\n",
       "    </tr>\n",
       "    <tr>\n",
       "      <th>1</th>\n",
       "      <td>K2-09621-CL21688-CP20773-16-07-S2.json</td>\n",
       "      <td>['반갑네요. 오늘은 다른 날과 달리 날씨가 화창하네요.', '저는 엄청 뚱뚱하거 ...</td>\n",
       "      <td>['오늘은 날씨가 화창하다.', '나는 엄청 뚱뚱하다.', '요즘 사람들은 키가 큰...</td>\n",
       "      <td>[안녕. 오늘은 다른 날과 달리 날씨가 화창하네., 나는 엄청 뚱뚱해. 다이어트 같...</td>\n",
       "    </tr>\n",
       "    <tr>\n",
       "      <th>2</th>\n",
       "      <td>K2-16238-CL35285-CP53786-13-09-S2.json</td>\n",
       "      <td>['안녕하세요 2일만이네요 잘 지내셨나요?', '지금 이렇게 갑자기 추워지니까 올 ...</td>\n",
       "      <td>['나는 갑자기 추워져서 여름 폭염이 생각난다', '나는 기후 이상 현상이 늘어난다...</td>\n",
       "      <td>[안녕, 2일만이네. 잘 지냈어?, 지금 이렇게 갑자기 추워지니까 올 여름에 폭염이...</td>\n",
       "    </tr>\n",
       "    <tr>\n",
       "      <th>3</th>\n",
       "      <td>K2-26348-CL25715-CP34833-05-02-S2.json</td>\n",
       "      <td>['안녕하세요~ 저는 회계사로 일하는 20대 여자입니다.', '반가워요. 직업이 어...</td>\n",
       "      <td>['나는 회계사이다. 나는 20대 여자이다.', '나는 달리기를 가끔 한다. 나는 ...</td>\n",
       "      <td>[안녕, 나는 회계사로 일하는 20대 여자야., 안녕. 직업이 뭐야?, 아하, 그러...</td>\n",
       "    </tr>\n",
       "    <tr>\n",
       "      <th>4</th>\n",
       "      <td>K2-22456-CL02291-CP01392-17-07-S2.json</td>\n",
       "      <td>['네. 저는 맛있게 먹었습니다. 저는 라멘을 먹었습니다! 메뉴가 뭐였나요?', '...</td>\n",
       "      <td>['나는 자장면이 싫다.', '나는 일식을 좋아한다.']</td>\n",
       "      <td>[응, 나는 맛있게 먹었어. 나는 라멘을 먹었어! 메뉴가 뭐였어?, 상사와 입맛이 ...</td>\n",
       "    </tr>\n",
       "    <tr>\n",
       "      <th>...</th>\n",
       "      <td>...</td>\n",
       "      <td>...</td>\n",
       "      <td>...</td>\n",
       "      <td>...</td>\n",
       "    </tr>\n",
       "    <tr>\n",
       "      <th>10323</th>\n",
       "      <td>K2-01208-CL20656-CP21290-14-12-S2.json</td>\n",
       "      <td>['랜챗 매칭되신 걸 환영해요! 저도 20대 남자예요. 반가워요!', '저는 에세이...</td>\n",
       "      <td>['나는 20대 남자다.', '나는 에세이를 좋아한다.', '나는 인류학 부전공이다...</td>\n",
       "      <td>[랜챗 매칭되신 걸 환영해! 나도 20대 남자야. 반가워!, 나는 에세이 좋아해서 ...</td>\n",
       "    </tr>\n",
       "    <tr>\n",
       "      <th>10324</th>\n",
       "      <td>K2-00161-CL13219-CP20829-19-03-S2.json</td>\n",
       "      <td>['안녕하세요. 저는 10대 여성입니다.', '저는 요즘 매일 자전거로 학교에 가고...</td>\n",
       "      <td>['나는 10대 여성이다.', '나는 매일 자전거로 학교에 가고 있다.', '나는 ...</td>\n",
       "      <td>[안녕, 나는 10대 여성이야., 나는 요즘 매일 자전거로 학교에 가고 있어. 선생...</td>\n",
       "    </tr>\n",
       "    <tr>\n",
       "      <th>10325</th>\n",
       "      <td>K2-34368-CL13202-CP61629-09-10-S2.json</td>\n",
       "      <td>['안녕하세요. 저는 10대 여성입니다.', '저는 요즘 아버지와 진학 문제로 갈등...</td>\n",
       "      <td>['나는 10대 여성이다', '나는 요즘 진학 문제로 아버지와 갈등이 있다', '나...</td>\n",
       "      <td>[안녕, 나는 10대 여성이야., 나는 요즘 아버지와 진학 문제로 갈등이 있어., ...</td>\n",
       "    </tr>\n",
       "    <tr>\n",
       "      <th>10326</th>\n",
       "      <td>K2-15070-CL21845-CP26190-08-14-S2.json</td>\n",
       "      <td>['반갑습니다~ 저도 20대 여성이에요 저는 친구가 많지 않아서 친구를 사귀고 싶어...</td>\n",
       "      <td>['나는 20대 여성이다.', '나는 친구가 많지 않아 친구를 사귀고 싶다.', '...</td>\n",
       "      <td>[안녕, 나도 20대 여성이야. 나는 친구가 많지 않아서 친구를 사귀고 싶어., 그...</td>\n",
       "    </tr>\n",
       "    <tr>\n",
       "      <th>10327</th>\n",
       "      <td>K2-00837-CL20452-CP22248-12-07-S2.json</td>\n",
       "      <td>['좋겠어요~ 근데 전 이제 금방 한국 나가는데.ㅋㅋ.', '일본으로 가족여행을 가...</td>\n",
       "      <td>['나는 일본으로 가족여행을 간다.', '나는 일본 여행이 처음이다.']</td>\n",
       "      <td>[부럽다. 하지만 난 이제 곧 한국으로 돌아가., 일본으로 가족여행을 가기로 했어....</td>\n",
       "    </tr>\n",
       "  </tbody>\n",
       "</table>\n",
       "<p>10328 rows × 4 columns</p>\n",
       "</div>"
      ],
      "text/plain": [
       "                                           id  \\\n",
       "0      K5-01680-CL72369-CP01894-12-02-S2.json   \n",
       "1      K2-09621-CL21688-CP20773-16-07-S2.json   \n",
       "2      K2-16238-CL35285-CP53786-13-09-S2.json   \n",
       "3      K2-26348-CL25715-CP34833-05-02-S2.json   \n",
       "4      K2-22456-CL02291-CP01392-17-07-S2.json   \n",
       "...                                       ...   \n",
       "10323  K2-01208-CL20656-CP21290-14-12-S2.json   \n",
       "10324  K2-00161-CL13219-CP20829-19-03-S2.json   \n",
       "10325  K2-34368-CL13202-CP61629-09-10-S2.json   \n",
       "10326  K2-15070-CL21845-CP26190-08-14-S2.json   \n",
       "10327  K2-00837-CL20452-CP22248-12-07-S2.json   \n",
       "\n",
       "                                          session_dialog  \\\n",
       "0      ['안녕하세요. 잘 지내셨죠? 멍냥이들은 어떄요?', '저는 체험 여행을 자주가서요...   \n",
       "1      ['반갑네요. 오늘은 다른 날과 달리 날씨가 화창하네요.', '저는 엄청 뚱뚱하거 ...   \n",
       "2      ['안녕하세요 2일만이네요 잘 지내셨나요?', '지금 이렇게 갑자기 추워지니까 올 ...   \n",
       "3      ['안녕하세요~ 저는 회계사로 일하는 20대 여자입니다.', '반가워요. 직업이 어...   \n",
       "4      ['네. 저는 맛있게 먹었습니다. 저는 라멘을 먹었습니다! 메뉴가 뭐였나요?', '...   \n",
       "...                                                  ...   \n",
       "10323  ['랜챗 매칭되신 걸 환영해요! 저도 20대 남자예요. 반가워요!', '저는 에세이...   \n",
       "10324  ['안녕하세요. 저는 10대 여성입니다.', '저는 요즘 매일 자전거로 학교에 가고...   \n",
       "10325  ['안녕하세요. 저는 10대 여성입니다.', '저는 요즘 아버지와 진학 문제로 갈등...   \n",
       "10326  ['반갑습니다~ 저도 20대 여성이에요 저는 친구가 많지 않아서 친구를 사귀고 싶어...   \n",
       "10327  ['좋겠어요~ 근데 전 이제 금방 한국 나가는데.ㅋㅋ.', '일본으로 가족여행을 가...   \n",
       "\n",
       "                                         session_persona  \\\n",
       "0          ['나는 체험 여행을 자주간다.', '나는 경주 전통체험 여행을 갈 예정이다.']   \n",
       "1      ['오늘은 날씨가 화창하다.', '나는 엄청 뚱뚱하다.', '요즘 사람들은 키가 큰...   \n",
       "2      ['나는 갑자기 추워져서 여름 폭염이 생각난다', '나는 기후 이상 현상이 늘어난다...   \n",
       "3      ['나는 회계사이다. 나는 20대 여자이다.', '나는 달리기를 가끔 한다. 나는 ...   \n",
       "4                        ['나는 자장면이 싫다.', '나는 일식을 좋아한다.']   \n",
       "...                                                  ...   \n",
       "10323  ['나는 20대 남자다.', '나는 에세이를 좋아한다.', '나는 인류학 부전공이다...   \n",
       "10324  ['나는 10대 여성이다.', '나는 매일 자전거로 학교에 가고 있다.', '나는 ...   \n",
       "10325  ['나는 10대 여성이다', '나는 요즘 진학 문제로 아버지와 갈등이 있다', '나...   \n",
       "10326  ['나는 20대 여성이다.', '나는 친구가 많지 않아 친구를 사귀고 싶다.', '...   \n",
       "10327           ['나는 일본으로 가족여행을 간다.', '나는 일본 여행이 처음이다.']   \n",
       "\n",
       "                                           banmal_dialog  \n",
       "0      [안녕, 잘 지냈어? 멍냥이들은 어때?, 나는 체험 여행을 자주가서, 이번에 문화체...  \n",
       "1      [안녕. 오늘은 다른 날과 달리 날씨가 화창하네., 나는 엄청 뚱뚱해. 다이어트 같...  \n",
       "2      [안녕, 2일만이네. 잘 지냈어?, 지금 이렇게 갑자기 추워지니까 올 여름에 폭염이...  \n",
       "3      [안녕, 나는 회계사로 일하는 20대 여자야., 안녕. 직업이 뭐야?, 아하, 그러...  \n",
       "4      [응, 나는 맛있게 먹었어. 나는 라멘을 먹었어! 메뉴가 뭐였어?, 상사와 입맛이 ...  \n",
       "...                                                  ...  \n",
       "10323  [랜챗 매칭되신 걸 환영해! 나도 20대 남자야. 반가워!, 나는 에세이 좋아해서 ...  \n",
       "10324  [안녕, 나는 10대 여성이야., 나는 요즘 매일 자전거로 학교에 가고 있어. 선생...  \n",
       "10325  [안녕, 나는 10대 여성이야., 나는 요즘 아버지와 진학 문제로 갈등이 있어., ...  \n",
       "10326  [안녕, 나도 20대 여성이야. 나는 친구가 많지 않아서 친구를 사귀고 싶어., 그...  \n",
       "10327  [부럽다. 하지만 난 이제 곧 한국으로 돌아가., 일본으로 가족여행을 가기로 했어....  \n",
       "\n",
       "[10328 rows x 4 columns]"
      ]
     },
     "execution_count": 77,
     "metadata": {},
     "output_type": "execute_result"
    }
   ],
   "source": [
    "data_df_10328_1_1"
   ]
  },
  {
   "cell_type": "code",
   "execution_count": 78,
   "metadata": {},
   "outputs": [],
   "source": [
    "data_df_10328_1_1.to_csv('../data/train/banmal_session12_10328.csv', index=False)"
   ]
  },
  {
   "cell_type": "code",
   "execution_count": 79,
   "metadata": {},
   "outputs": [],
   "source": [
    "# train, val을 8대 2로 나누기\n",
    "import pandas as pd\n",
    "\n",
    "from sklearn.model_selection import train_test_split\n",
    "\n",
    "train, validation = train_test_split(data_df_10328_1_1, test_size=0.2, random_state=42)"
   ]
  },
  {
   "cell_type": "code",
   "execution_count": 80,
   "metadata": {},
   "outputs": [],
   "source": [
    "train.to_csv('../data/train/banmal_session12_10328_train.csv', index=False)\n",
    "validation.to_csv('../data/val/banmal_session12_10328_val.csv', index=False)"
   ]
  }
 ],
 "metadata": {
  "kernelspec": {
   "display_name": "persona_extraction",
   "language": "python",
   "name": "python3"
  },
  "language_info": {
   "codemirror_mode": {
    "name": "ipython",
    "version": 3
   },
   "file_extension": ".py",
   "mimetype": "text/x-python",
   "name": "python",
   "nbconvert_exporter": "python",
   "pygments_lexer": "ipython3",
   "version": "3.10.13"
  }
 },
 "nbformat": 4,
 "nbformat_minor": 2
}
